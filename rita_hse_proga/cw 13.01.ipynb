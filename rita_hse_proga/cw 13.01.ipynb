{
 "cells": [
  {
   "cell_type": "code",
   "execution_count": 2,
   "metadata": {},
   "outputs": [
    {
     "name": "stdout",
     "output_type": "stream",
     "text": [
      "['яблоко', 10, 'ООО наш огород']\n",
      "['Молоко', 25, 'завод веселая буренка']\n"
     ]
    }
   ],
   "source": [
    "a = [\n",
    "    ['яблоко', '10', 'ООО наш огород'],\n",
    "    ['Молоко', '25', 'завод веселая буренка'],\n",
    "    \n",
    "]\n",
    "with open ('table.csv', 'w', encoding='utf-8') as f:\n",
    " for item in a:\n",
    "    line = ','.join(item)\n",
    "    print(line)\n",
    "    f.write(line)\n",
    "    \n",
    "    \n",
    "    \n"
   ]
  },
  {
   "cell_type": "code",
   "execution_count": 3,
   "metadata": {},
   "outputs": [
    {
     "name": "stdout",
     "output_type": "stream",
     "text": [
      "яблоко,10,ООО наш огород\n",
      "Молоко,25,завод веселая буренка\n"
     ]
    }
   ],
   "source": [
    "a = [\n",
    "    ['яблоко'; '10'; 'ООО наш огород'],\n",
    "    ['Молоко'; '25'; 'завод веселая буренка'],\n",
    "    \n",
    "]\n",
    "with open ('table.csv', 'w', encoding='utf-8') as f:\n",
    " for item in a:\n",
    "    line = ';'.join(item)\n",
    "    print(line)\n",
    "    f.write(line)\n",
    "    f.write('\\n')\n",
    "    \n",
    "    "
   ]
  },
  {
   "cell_type": "code",
   "execution_count": 4,
   "metadata": {},
   "outputs": [
    {
     "ename": "SyntaxError",
     "evalue": "invalid syntax (<ipython-input-4-630ddf730c82>, line 1)",
     "output_type": "error",
     "traceback": [
      "\u001b[0;36m  File \u001b[0;32m\"<ipython-input-4-630ddf730c82>\"\u001b[0;36m, line \u001b[0;32m1\u001b[0m\n\u001b[0;31m    import random(random.randint(0,10))\u001b[0m\n\u001b[0m                 ^\u001b[0m\n\u001b[0;31mSyntaxError\u001b[0m\u001b[0;31m:\u001b[0m invalid syntax\n"
     ]
    }
   ],
   "source": [
    "import random\n",
    "x=(random.randint(0,10))\n",
    "print(x)\n",
    "\n"
   ]
  },
  {
   "cell_type": "code",
   "execution_count": 9,
   "metadata": {},
   "outputs": [
    {
     "name": "stdout",
     "output_type": "stream",
     "text": [
      "7\n",
      "питон\n",
      "['собака', 'питон', 'кошка']\n"
     ]
    },
    {
     "ename": "ValueError",
     "evalue": "Sample larger than population or is negative",
     "output_type": "error",
     "traceback": [
      "\u001b[0;31m---------------------------------------------------------------------------\u001b[0m",
      "\u001b[0;31mValueError\u001b[0m                                Traceback (most recent call last)",
      "\u001b[0;32m<ipython-input-9-a8ef5c8ac0c6>\u001b[0m in \u001b[0;36m<module>\u001b[0;34m()\u001b[0m\n\u001b[1;32m     11\u001b[0m \u001b[0msub_a\u001b[0m \u001b[0;34m=\u001b[0m \u001b[0mrandom\u001b[0m\u001b[0;34m.\u001b[0m\u001b[0msample\u001b[0m\u001b[0;34m(\u001b[0m\u001b[0ma\u001b[0m\u001b[0;34m,\u001b[0m \u001b[0;36m2\u001b[0m\u001b[0;34m)\u001b[0m \u001b[0;31m# выбирает два элемента из а, может выбирать и из строк и из списков, но возвращает всегода строку\u001b[0m\u001b[0;34m\u001b[0m\u001b[0m\n\u001b[1;32m     12\u001b[0m \u001b[0ms\u001b[0m \u001b[0;34m=\u001b[0m \u001b[0;34m'робототехника'\u001b[0m\u001b[0;34m\u001b[0m\u001b[0m\n\u001b[0;32m---> 13\u001b[0;31m \u001b[0ms\u001b[0m \u001b[0;34m=\u001b[0m \u001b[0mrandom\u001b[0m\u001b[0;34m.\u001b[0m\u001b[0msample\u001b[0m\u001b[0;34m(\u001b[0m\u001b[0ma\u001b[0m\u001b[0;34m,\u001b[0m \u001b[0mlen\u001b[0m\u001b[0;34m(\u001b[0m\u001b[0ms\u001b[0m\u001b[0;34m)\u001b[0m\u001b[0;34m)\u001b[0m\u001b[0;34m\u001b[0m\u001b[0m\n\u001b[0m\u001b[1;32m     14\u001b[0m \u001b[0mprint\u001b[0m\u001b[0;34m(\u001b[0m\u001b[0ma\u001b[0m\u001b[0;34m)\u001b[0m\u001b[0;34m\u001b[0m\u001b[0m\n\u001b[1;32m     15\u001b[0m \u001b[0ms1\u001b[0m\u001b[0;34m=\u001b[0m \u001b[0;34m''\u001b[0m\u001b[0;34m.\u001b[0m\u001b[0mjoin\u001b[0m\u001b[0;34m(\u001b[0m\u001b[0ma\u001b[0m\u001b[0;34m)\u001b[0m\u001b[0;34m\u001b[0m\u001b[0m\n",
      "\u001b[0;32m~/anaconda3/lib/python3.6/random.py\u001b[0m in \u001b[0;36msample\u001b[0;34m(self, population, k)\u001b[0m\n\u001b[1;32m    315\u001b[0m         \u001b[0mn\u001b[0m \u001b[0;34m=\u001b[0m \u001b[0mlen\u001b[0m\u001b[0;34m(\u001b[0m\u001b[0mpopulation\u001b[0m\u001b[0;34m)\u001b[0m\u001b[0;34m\u001b[0m\u001b[0m\n\u001b[1;32m    316\u001b[0m         \u001b[0;32mif\u001b[0m \u001b[0;32mnot\u001b[0m \u001b[0;36m0\u001b[0m \u001b[0;34m<=\u001b[0m \u001b[0mk\u001b[0m \u001b[0;34m<=\u001b[0m \u001b[0mn\u001b[0m\u001b[0;34m:\u001b[0m\u001b[0;34m\u001b[0m\u001b[0m\n\u001b[0;32m--> 317\u001b[0;31m             \u001b[0;32mraise\u001b[0m \u001b[0mValueError\u001b[0m\u001b[0;34m(\u001b[0m\u001b[0;34m\"Sample larger than population or is negative\"\u001b[0m\u001b[0;34m)\u001b[0m\u001b[0;34m\u001b[0m\u001b[0m\n\u001b[0m\u001b[1;32m    318\u001b[0m         \u001b[0mresult\u001b[0m \u001b[0;34m=\u001b[0m \u001b[0;34m[\u001b[0m\u001b[0;32mNone\u001b[0m\u001b[0;34m]\u001b[0m \u001b[0;34m*\u001b[0m \u001b[0mk\u001b[0m\u001b[0;34m\u001b[0m\u001b[0m\n\u001b[1;32m    319\u001b[0m         \u001b[0msetsize\u001b[0m \u001b[0;34m=\u001b[0m \u001b[0;36m21\u001b[0m        \u001b[0;31m# size of a small set minus size of an empty list\u001b[0m\u001b[0;34m\u001b[0m\u001b[0m\n",
      "\u001b[0;31mValueError\u001b[0m: Sample larger than population or is negative"
     ]
    }
   ],
   "source": [
    "import random\n",
    "\n",
    "x=random.randint(0,10)\n",
    "print(x)\n",
    "\n",
    "a = ['кошка', 'собака', 'питон']\n",
    "x = random.choice(a)\n",
    "print(x)\n",
    "random.shuffle(a) #ничего не возвращает, просто перемешивает все элементы\n",
    "print(a)\n",
    "sub_a = random.sample(a, 2) # выбирает два элемента из а, может выбирать и из строк и из списков, но возвращает всегода строку\n",
    "sub_a = random.samples = 'робототехника'\n",
    "s = random.sample( s, len(s))\n",
    "print(a)\n",
    "s1= ''.join(a)\n",
    "print(s1)\n",
    "#s1 =''\n",
    "#for x in a:\n",
    "#   s1 += x - фор вместо джойн"
   ]
  },
  {
   "cell_type": "code",
   "execution_count": 13,
   "metadata": {},
   "outputs": [
    {
     "name": "stdout",
     "output_type": "stream",
     "text": [
      "['о', 'х', 'е', 'б', 'н', 'к', 'о', 'о', 'а', 'и', 'т', 'т', 'р']\n",
      "охебнкооаиттр\n"
     ]
    }
   ],
   "source": [
    "s = random.samples = 'робототехника'\n",
    "a = random.sample(s, len(s))\n",
    "print(a)\n",
    "s1= ''.join(a)\n",
    "print(s1)\n",
    "#s1 =''\n",
    "#for x in a:\n",
    "#   s1 += x - фор вместо джойн"
   ]
  },
  {
   "cell_type": "code",
   "execution_count": 24,
   "metadata": {},
   "outputs": [
    {
     "name": "stdout",
     "output_type": "stream",
     "text": [
      "[]\n"
     ]
    }
   ],
   "source": [
    "with open ('grr.csv') as f:\n",
    "    text = f.read()\n",
    "text = text.replace(',','')#у меня не читается текст почему то\n",
    "text = text.replace('.','') #убираем все знаки  препинания\n",
    "words = text.split()\n",
    "print(words)\n",
    "\n",
    "with open ('grr.csv', 'w') as f:\n",
    "        for x in words:\n",
    "            f.write(x)\n",
    "            f.write('\\n')\n",
    "def anno(word): #задать функцию\n",
    "    a=random.sample(word, len(word))\n",
    "    new_word = ''.join(a)\n",
    "    return new_word\n",
    "\n",
    "with open ('grr.csv', 'w') as f:\n",
    "        for x in words:\n",
    "            list_line = [x]\n",
    "            for i in range(3):\n",
    "                list_line.append(anno(x))\n",
    "            line =''.join(list_line)\n",
    "            f.write(line)\n",
    "            f.write('\\n')"
   ]
  },
  {
   "cell_type": "code",
   "execution_count": 15,
   "metadata": {},
   "outputs": [
    {
     "ename": "TypeError",
     "evalue": "must be str, not list",
     "output_type": "error",
     "traceback": [
      "\u001b[0;31m---------------------------------------------------------------------------\u001b[0m",
      "\u001b[0;31mTypeError\u001b[0m                                 Traceback (most recent call last)",
      "\u001b[0;32m<ipython-input-15-96218572ffee>\u001b[0m in \u001b[0;36m<module>\u001b[0;34m()\u001b[0m\n\u001b[1;32m      9\u001b[0m     \u001b[0mprint\u001b[0m \u001b[0;34m(\u001b[0m\u001b[0mrandom\u001b[0m\u001b[0;34m.\u001b[0m\u001b[0mchoice\u001b[0m\u001b[0;34m(\u001b[0m\u001b[0ma\u001b[0m\u001b[0;34m)\u001b[0m\u001b[0;34m+\u001b[0m\u001b[0;34m''\u001b[0m\u001b[0;34m+\u001b[0m\u001b[0;34m(\u001b[0m\u001b[0mb\u001b[0m\u001b[0;34m)\u001b[0m\u001b[0;34m)\u001b[0m\u001b[0;34m\u001b[0m\u001b[0m\n\u001b[1;32m     10\u001b[0m \u001b[0;32melif\u001b[0m \u001b[0mcomb\u001b[0m \u001b[0;34m==\u001b[0m \u001b[0;36m2\u001b[0m\u001b[0;34m:\u001b[0m\u001b[0;34m\u001b[0m\u001b[0m\n\u001b[0;32m---> 11\u001b[0;31m     \u001b[0mprint\u001b[0m \u001b[0;34m(\u001b[0m\u001b[0mrandom\u001b[0m\u001b[0;34m.\u001b[0m\u001b[0mchoice\u001b[0m\u001b[0;34m(\u001b[0m\u001b[0mc\u001b[0m\u001b[0;34m)\u001b[0m\u001b[0;34m+\u001b[0m\u001b[0;34m''\u001b[0m\u001b[0;34m+\u001b[0m\u001b[0;34m(\u001b[0m\u001b[0md\u001b[0m\u001b[0;34m)\u001b[0m\u001b[0;34m)\u001b[0m\u001b[0;34m\u001b[0m\u001b[0m\n\u001b[0m",
      "\u001b[0;31mTypeError\u001b[0m: must be str, not list"
     ]
    }
   ],
   "source": [
    "import random\n",
    "a= ['яблоко', 'кот', 'жопа']\n",
    "b= ['яблоки', 'коты', 'жопы']\n",
    "c= ['сосет','живет','пердит']\n",
    "d= ['сосут','живут','пердят']\n",
    "def second_string():\n",
    "    comb = random.choice([1,2])\n",
    "if comb == 1:\n",
    "    return random.choice(a)+''+(b)\n",
    "elif comb == 2:\n",
    "    return random.choice(c)+''+(d)\n"
   ]
  },
  {
   "cell_type": "code",
   "execution_count": 46,
   "metadata": {},
   "outputs": [
    {
     "data": {
      "text/plain": [
       "'жопы пердят'"
      ]
     },
     "execution_count": 46,
     "metadata": {},
     "output_type": "execute_result"
    }
   ],
   "source": [
    "\n",
    "import random\n",
    "a= ['яблоко', 'кот', 'жопа']\n",
    "aa = ' '.join(a)\n",
    "b= ['яблоки', 'коты', 'жопы']\n",
    "bb = ' '.join(b)\n",
    "c= ['сосет','живет','пердит']\n",
    "cc = ' '.join(c)\n",
    "d= ['сосут','живут','пердят']\n",
    "dd = ' '.join(d)\n",
    "def second_string():\n",
    "    comb = random.randint(1,2)\n",
    "    if comb == 1:\n",
    "        return random.choice(a) + ' ' + random.choice(c)\n",
    "    elif comb == 2:\n",
    "         return random.choice(b) + ' ' + random.choice(d)\n",
    "        \n",
    "second_string()  "
   ]
  },
  {
   "cell_type": "code",
   "execution_count": null,
   "metadata": {
    "collapsed": true
   },
   "outputs": [],
   "source": []
  },
  {
   "cell_type": "code",
   "execution_count": null,
   "metadata": {
    "collapsed": true
   },
   "outputs": [],
   "source": []
  }
 ],
 "metadata": {
  "kernelspec": {
   "display_name": "Python 3",
   "language": "python",
   "name": "python3"
  },
  "language_info": {
   "codemirror_mode": {
    "name": "ipython",
    "version": 3
   },
   "file_extension": ".py",
   "mimetype": "text/x-python",
   "name": "python",
   "nbconvert_exporter": "python",
   "pygments_lexer": "ipython3",
   "version": "3.6.3"
  }
 },
 "nbformat": 4,
 "nbformat_minor": 2
}
